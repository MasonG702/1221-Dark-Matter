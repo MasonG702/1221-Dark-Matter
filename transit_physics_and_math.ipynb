{
  "nbformat": 4,
  "nbformat_minor": 0,
  "metadata": {
    "colab": {
      "provenance": [],
      "authorship_tag": "ABX9TyMyzdJvmrx79qMYi6D4VwKX",
      "include_colab_link": true
    },
    "kernelspec": {
      "name": "python3",
      "display_name": "Python 3"
    },
    "language_info": {
      "name": "python"
    }
  },
  "cells": [
    {
      "cell_type": "markdown",
      "metadata": {
        "id": "view-in-github",
        "colab_type": "text"
      },
      "source": [
        "<a href=\"https://colab.research.google.com/github/MasonG702/1221-Dark-Matter/blob/main/transit_physics_and_math.ipynb\" target=\"_parent\"><img src=\"https://colab.research.google.com/assets/colab-badge.svg\" alt=\"Open In Colab\"/></a>"
      ]
    },
    {
      "cell_type": "code",
      "execution_count": 1,
      "metadata": {
        "id": "vNpFB7_c6Hq-"
      },
      "outputs": [],
      "source": [
        "import astropy.units as u\n",
        "import numpy as np\n",
        "import astropy.constants as ac"
      ]
    },
    {
      "cell_type": "code",
      "source": [
        "d = 2 * u.solRad # diameter of the sun"
      ],
      "metadata": {
        "id": "H35063E38X5Q"
      },
      "execution_count": 2,
      "outputs": []
    },
    {
      "cell_type": "code",
      "source": [
        "a = 1 * u.AU # calculate orbital velocity and transit time for earth\n",
        "v = np.sqrt(ac.G * u.solMass / a)\n",
        "print(v.to(u.m / u.s))"
      ],
      "metadata": {
        "colab": {
          "base_uri": "https://localhost:8080/"
        },
        "id": "mSezTcrZ8tMv",
        "outputId": "aa4ff18f-15ee-434d-9368-d6ddd59ca892"
      },
      "execution_count": 6,
      "outputs": [
        {
          "output_type": "stream",
          "name": "stdout",
          "text": [
            "29784.691829676933 m / s\n"
          ]
        }
      ]
    },
    {
      "cell_type": "code",
      "source": [
        "t = d / v\n",
        "print(t.to(u.hour))"
      ],
      "metadata": {
        "colab": {
          "base_uri": "https://localhost:8080/"
        },
        "id": "Q8kB6ZCJ9JvY",
        "outputId": "eeb6ca71-ecf0-4ed1-c8ee-11e930d4ed25"
      },
      "execution_count": 4,
      "outputs": [
        {
          "output_type": "stream",
          "name": "stdout",
          "text": [
            "12.976464628547822 h\n"
          ]
        }
      ]
    },
    {
      "cell_type": "code",
      "source": [
        "delta = (u.jupiterRad / u.solRad)**2 # calculate transit depth for Jupiter\n",
        "print(\" The transit depth = \", delta.decompose())"
      ],
      "metadata": {
        "colab": {
          "base_uri": "https://localhost:8080/"
        },
        "id": "PmY9jBDL9mfa",
        "outputId": "51348d68-c24d-49aa-d1b0-bab72825f81e"
      },
      "execution_count": 5,
      "outputs": [
        {
          "output_type": "stream",
          "name": "stdout",
          "text": [
            " The transit depth =  0.0105602\n"
          ]
        }
      ]
    },
    {
      "cell_type": "code",
      "source": [
        "a = 5 * u.AU # Calculate Orbital Velocity and Transit Time for Jupiter\n",
        "v_Jupiter = np.sqrt(ac.G * u.solMass / a)\n",
        "print(v_Jupiter.to(u.m / u.s))"
      ],
      "metadata": {
        "colab": {
          "base_uri": "https://localhost:8080/"
        },
        "id": "YGErtgye-Ldw",
        "outputId": "15bedbe6-519f-43c5-b19c-c0ff97273737"
      },
      "execution_count": 7,
      "outputs": [
        {
          "output_type": "stream",
          "name": "stdout",
          "text": [
            "13320.119124008042 m / s\n"
          ]
        }
      ]
    },
    {
      "cell_type": "code",
      "source": [
        "t_Jupiter = d / v_Jupiter\n",
        "print(t_Jupiter.to(u.hour))"
      ],
      "metadata": {
        "colab": {
          "base_uri": "https://localhost:8080/"
        },
        "id": "f1LSQydO-iyo",
        "outputId": "e1cfd1be-8613-426c-aa86-153d77fdc49b"
      },
      "execution_count": 8,
      "outputs": [
        {
          "output_type": "stream",
          "name": "stdout",
          "text": [
            "29.01625701705449 h\n"
          ]
        }
      ]
    },
    {
      "cell_type": "code",
      "source": [
        "v_earth = 30 * u.km / u.s # Calculate Relative Velocities for Sun-Earth and Sun-Jupiter Systems\n",
        "v_sun = (u.earthMass / u.solMass) * v_earth\n",
        "print(v_sun.to(u.m / u.s))"
      ],
      "metadata": {
        "colab": {
          "base_uri": "https://localhost:8080/"
        },
        "id": "r-wZNab8-pVY",
        "outputId": "a581d1c6-0614-4a3d-a382-c7df513d518f"
      },
      "execution_count": 9,
      "outputs": [
        {
          "output_type": "stream",
          "name": "stdout",
          "text": [
            "0.09010468046552379 m / s\n"
          ]
        }
      ]
    },
    {
      "cell_type": "code",
      "source": [
        "v_sun_Jupiter = (u.jupiterMass / u.solMass) * v_Jupiter # Velocity of the Sun due to Jupiter\n",
        "print(v_sun_Jupiter.to(u.m / u.s))"
      ],
      "metadata": {
        "colab": {
          "base_uri": "https://localhost:8080/"
        },
        "id": "TO4vboJD_VYP",
        "outputId": "54457249-f3a3-48af-ff12-f384a218d60d"
      },
      "execution_count": 10,
      "outputs": [
        {
          "output_type": "stream",
          "name": "stdout",
          "text": [
            "12.715308911562614 m / s\n"
          ]
        }
      ]
    },
    {
      "cell_type": "code",
      "source": [],
      "metadata": {
        "id": "HSdkHXCh_n2n"
      },
      "execution_count": null,
      "outputs": []
    }
  ]
}