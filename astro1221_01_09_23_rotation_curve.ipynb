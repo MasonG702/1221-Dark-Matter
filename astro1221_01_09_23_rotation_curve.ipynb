{
  "nbformat": 4,
  "nbformat_minor": 0,
  "metadata": {
    "colab": {
      "provenance": [],
      "authorship_tag": "ABX9TyMOV6XpuvRxeMZhFIJlPnO6",
      "include_colab_link": true
    },
    "kernelspec": {
      "name": "python3",
      "display_name": "Python 3"
    },
    "language_info": {
      "name": "python"
    }
  },
  "cells": [
    {
      "cell_type": "markdown",
      "metadata": {
        "id": "view-in-github",
        "colab_type": "text"
      },
      "source": [
        "<a href=\"https://colab.research.google.com/github/MasonG702/1221-Dark-Matter/blob/main/astro1221_01_09_23_rotation_curve.ipynb\" target=\"_parent\"><img src=\"https://colab.research.google.com/assets/colab-badge.svg\" alt=\"Open In Colab\"/></a>"
      ]
    },
    {
      "cell_type": "code",
      "execution_count": null,
      "metadata": {
        "id": "0lOqXfNO4hBQ"
      },
      "outputs": [],
      "source": [
        "import numpy as np\n",
        "import astropy.units as u\n",
        "import astropy.constants as ac\n",
        "import matplotlib.pyplot as plt"
      ]
    },
    {
      "cell_type": "code",
      "source": [
        "from google.colab import files"
      ],
      "metadata": {
        "id": "2wpJiXLb5u2R"
      },
      "execution_count": null,
      "outputs": []
    },
    {
      "cell_type": "code",
      "source": [
        "upload = files.upload()"
      ],
      "metadata": {
        "colab": {
          "base_uri": "https://localhost:8080/",
          "height": 74
        },
        "id": "F5IIQGGD5_OM",
        "outputId": "9c54ec1e-ce45-4632-c060-71e3cea35142"
      },
      "execution_count": null,
      "outputs": [
        {
          "output_type": "display_data",
          "data": {
            "text/plain": [
              "<IPython.core.display.HTML object>"
            ],
            "text/html": [
              "\n",
              "     <input type=\"file\" id=\"files-5e535961-30fa-4fbb-86c1-b587e6e5a185\" name=\"files[]\" multiple disabled\n",
              "        style=\"border:none\" />\n",
              "     <output id=\"result-5e535961-30fa-4fbb-86c1-b587e6e5a185\">\n",
              "      Upload widget is only available when the cell has been executed in the\n",
              "      current browser session. Please rerun this cell to enable.\n",
              "      </output>\n",
              "      <script>// Copyright 2017 Google LLC\n",
              "//\n",
              "// Licensed under the Apache License, Version 2.0 (the \"License\");\n",
              "// you may not use this file except in compliance with the License.\n",
              "// You may obtain a copy of the License at\n",
              "//\n",
              "//      http://www.apache.org/licenses/LICENSE-2.0\n",
              "//\n",
              "// Unless required by applicable law or agreed to in writing, software\n",
              "// distributed under the License is distributed on an \"AS IS\" BASIS,\n",
              "// WITHOUT WARRANTIES OR CONDITIONS OF ANY KIND, either express or implied.\n",
              "// See the License for the specific language governing permissions and\n",
              "// limitations under the License.\n",
              "\n",
              "/**\n",
              " * @fileoverview Helpers for google.colab Python module.\n",
              " */\n",
              "(function(scope) {\n",
              "function span(text, styleAttributes = {}) {\n",
              "  const element = document.createElement('span');\n",
              "  element.textContent = text;\n",
              "  for (const key of Object.keys(styleAttributes)) {\n",
              "    element.style[key] = styleAttributes[key];\n",
              "  }\n",
              "  return element;\n",
              "}\n",
              "\n",
              "// Max number of bytes which will be uploaded at a time.\n",
              "const MAX_PAYLOAD_SIZE = 100 * 1024;\n",
              "\n",
              "function _uploadFiles(inputId, outputId) {\n",
              "  const steps = uploadFilesStep(inputId, outputId);\n",
              "  const outputElement = document.getElementById(outputId);\n",
              "  // Cache steps on the outputElement to make it available for the next call\n",
              "  // to uploadFilesContinue from Python.\n",
              "  outputElement.steps = steps;\n",
              "\n",
              "  return _uploadFilesContinue(outputId);\n",
              "}\n",
              "\n",
              "// This is roughly an async generator (not supported in the browser yet),\n",
              "// where there are multiple asynchronous steps and the Python side is going\n",
              "// to poll for completion of each step.\n",
              "// This uses a Promise to block the python side on completion of each step,\n",
              "// then passes the result of the previous step as the input to the next step.\n",
              "function _uploadFilesContinue(outputId) {\n",
              "  const outputElement = document.getElementById(outputId);\n",
              "  const steps = outputElement.steps;\n",
              "\n",
              "  const next = steps.next(outputElement.lastPromiseValue);\n",
              "  return Promise.resolve(next.value.promise).then((value) => {\n",
              "    // Cache the last promise value to make it available to the next\n",
              "    // step of the generator.\n",
              "    outputElement.lastPromiseValue = value;\n",
              "    return next.value.response;\n",
              "  });\n",
              "}\n",
              "\n",
              "/**\n",
              " * Generator function which is called between each async step of the upload\n",
              " * process.\n",
              " * @param {string} inputId Element ID of the input file picker element.\n",
              " * @param {string} outputId Element ID of the output display.\n",
              " * @return {!Iterable<!Object>} Iterable of next steps.\n",
              " */\n",
              "function* uploadFilesStep(inputId, outputId) {\n",
              "  const inputElement = document.getElementById(inputId);\n",
              "  inputElement.disabled = false;\n",
              "\n",
              "  const outputElement = document.getElementById(outputId);\n",
              "  outputElement.innerHTML = '';\n",
              "\n",
              "  const pickedPromise = new Promise((resolve) => {\n",
              "    inputElement.addEventListener('change', (e) => {\n",
              "      resolve(e.target.files);\n",
              "    });\n",
              "  });\n",
              "\n",
              "  const cancel = document.createElement('button');\n",
              "  inputElement.parentElement.appendChild(cancel);\n",
              "  cancel.textContent = 'Cancel upload';\n",
              "  const cancelPromise = new Promise((resolve) => {\n",
              "    cancel.onclick = () => {\n",
              "      resolve(null);\n",
              "    };\n",
              "  });\n",
              "\n",
              "  // Wait for the user to pick the files.\n",
              "  const files = yield {\n",
              "    promise: Promise.race([pickedPromise, cancelPromise]),\n",
              "    response: {\n",
              "      action: 'starting',\n",
              "    }\n",
              "  };\n",
              "\n",
              "  cancel.remove();\n",
              "\n",
              "  // Disable the input element since further picks are not allowed.\n",
              "  inputElement.disabled = true;\n",
              "\n",
              "  if (!files) {\n",
              "    return {\n",
              "      response: {\n",
              "        action: 'complete',\n",
              "      }\n",
              "    };\n",
              "  }\n",
              "\n",
              "  for (const file of files) {\n",
              "    const li = document.createElement('li');\n",
              "    li.append(span(file.name, {fontWeight: 'bold'}));\n",
              "    li.append(span(\n",
              "        `(${file.type || 'n/a'}) - ${file.size} bytes, ` +\n",
              "        `last modified: ${\n",
              "            file.lastModifiedDate ? file.lastModifiedDate.toLocaleDateString() :\n",
              "                                    'n/a'} - `));\n",
              "    const percent = span('0% done');\n",
              "    li.appendChild(percent);\n",
              "\n",
              "    outputElement.appendChild(li);\n",
              "\n",
              "    const fileDataPromise = new Promise((resolve) => {\n",
              "      const reader = new FileReader();\n",
              "      reader.onload = (e) => {\n",
              "        resolve(e.target.result);\n",
              "      };\n",
              "      reader.readAsArrayBuffer(file);\n",
              "    });\n",
              "    // Wait for the data to be ready.\n",
              "    let fileData = yield {\n",
              "      promise: fileDataPromise,\n",
              "      response: {\n",
              "        action: 'continue',\n",
              "      }\n",
              "    };\n",
              "\n",
              "    // Use a chunked sending to avoid message size limits. See b/62115660.\n",
              "    let position = 0;\n",
              "    do {\n",
              "      const length = Math.min(fileData.byteLength - position, MAX_PAYLOAD_SIZE);\n",
              "      const chunk = new Uint8Array(fileData, position, length);\n",
              "      position += length;\n",
              "\n",
              "      const base64 = btoa(String.fromCharCode.apply(null, chunk));\n",
              "      yield {\n",
              "        response: {\n",
              "          action: 'append',\n",
              "          file: file.name,\n",
              "          data: base64,\n",
              "        },\n",
              "      };\n",
              "\n",
              "      let percentDone = fileData.byteLength === 0 ?\n",
              "          100 :\n",
              "          Math.round((position / fileData.byteLength) * 100);\n",
              "      percent.textContent = `${percentDone}% done`;\n",
              "\n",
              "    } while (position < fileData.byteLength);\n",
              "  }\n",
              "\n",
              "  // All done.\n",
              "  yield {\n",
              "    response: {\n",
              "      action: 'complete',\n",
              "    }\n",
              "  };\n",
              "}\n",
              "\n",
              "scope.google = scope.google || {};\n",
              "scope.google.colab = scope.google.colab || {};\n",
              "scope.google.colab._files = {\n",
              "  _uploadFiles,\n",
              "  _uploadFilesContinue,\n",
              "};\n",
              "})(self);\n",
              "</script> "
            ]
          },
          "metadata": {}
        },
        {
          "output_type": "stream",
          "name": "stdout",
          "text": [
            "Saving galaxy_rotation_2006.txt to galaxy_rotation_2006.txt\n"
          ]
        }
      ]
    },
    {
      "cell_type": "code",
      "source": [
        "import astropy.io.ascii"
      ],
      "metadata": {
        "id": "5nFgUgjq6KqJ"
      },
      "execution_count": null,
      "outputs": []
    },
    {
      "cell_type": "code",
      "source": [
        "tab = astropy.io.ascii.read(\"galaxy_rotation_2006.txt\")"
      ],
      "metadata": {
        "id": "eLQsSfat7BRd"
      },
      "execution_count": null,
      "outputs": []
    },
    {
      "cell_type": "code",
      "source": [
        "dis = tab[\"col2\"]\n",
        "vel = tab[\"col3\"]\n",
        "plt.plot(dis,vel)\n",
        "plt.xlabel(\"Distance [kpc]\")\n",
        "plt.ylabel(\"Velcoity [km/s]\")\n",
        "plt.ylim(0, 300)"
      ],
      "metadata": {
        "colab": {
          "base_uri": "https://localhost:8080/",
          "height": 473
        },
        "id": "Rh91f6uR7KUa",
        "outputId": "c2267ada-ae32-48f2-cd3d-1fb7e9ca6f60"
      },
      "execution_count": null,
      "outputs": [
        {
          "output_type": "execute_result",
          "data": {
            "text/plain": [
              "(0.0, 300.0)"
            ]
          },
          "metadata": {},
          "execution_count": 29
        },
        {
          "output_type": "display_data",
          "data": {
            "text/plain": [
              "<Figure size 640x480 with 1 Axes>"
            ],
            "image/png": "[encoded data removed]"
          },
          "metadata": {}
        }
      ]
    },
    {
      "cell_type": "code",
      "source": [
        "def calculate_orbital_velocity(mass, radius):\n",
        "  return(np.sqrt(ac.G*mass/radius))"
      ],
      "metadata": {
        "id": "ccZuz_kj7NPV"
      },
      "execution_count": null,
      "outputs": []
    },
    {
      "cell_type": "code",
      "source": [
        "mass = 1 * u.earthMass\n",
        "radius = 1 * u.earthRad\n",
        "orb_vel = calculate_orbital_velocity(mass, radius)\n",
        "print(orb_vel.to(u.km/u.s))"
      ],
      "metadata": {
        "colab": {
          "base_uri": "https://localhost:8080/"
        },
        "id": "Em35t1Ct-WQb",
        "outputId": "287fa0cb-a073-4e7a-dc1b-0393735a91f5"
      },
      "execution_count": null,
      "outputs": [
        {
          "output_type": "stream",
          "name": "stdout",
          "text": [
            "7.905388234385281 km / s\n"
          ]
        }
      ]
    },
    {
      "cell_type": "code",
      "source": [
        "mass = 3e7 * u.solMass\n",
        "radius = 5.68 * 1000 * u.parsec\n",
        "orb_vel = calculate_orbital_velocity(mass, radius)\n",
        "print(orb_vel.to(u.km/u.s))"
      ],
      "metadata": {
        "colab": {
          "base_uri": "https://localhost:8080/"
        },
        "id": "toIDZLIt-4Tq",
        "outputId": "0626f1b2-943b-49ed-d549-3107514fc3b6"
      },
      "execution_count": null,
      "outputs": [
        {
          "output_type": "stream",
          "name": "stdout",
          "text": [
            "4.766142291386287 km / s\n"
          ]
        }
      ]
    },
    {
      "cell_type": "code",
      "source": [
        "vel_bh = np.zeros(np.shape(dis)) * u.km / u.s\n",
        "\n",
        "for i, radius in enumerate(dis):\n",
        "  rad = radius * 1000 * u.parsec\n",
        "  orb_vel = calculate_orbital_velocity(mass, rad)\n",
        "  vel_bh[i] = orb_vel\n",
        "  print(\"The orbital velocity at \", radius, \" kpc is \", orb_vel.to(u.km/u.s))"
      ],
      "metadata": {
        "colab": {
          "base_uri": "https://localhost:8080/"
        },
        "id": "HBgDB23i_aMn",
        "outputId": "19faa6e0-72c9-4ded-af17-436b5670c77b"
      },
      "execution_count": null,
      "outputs": [
        {
          "output_type": "stream",
          "name": "stdout",
          "text": [
            "The orbital velocity at  5.68  kpc is  4.766142291386287 km / s\n",
            "The orbital velocity at  6.81  kpc is  4.352789004155528 km / s\n",
            "The orbital velocity at  7.95  kpc is  4.028632086788635 km / s\n",
            "The orbital velocity at  9.08  kpc is  3.7696258549122557 km / s\n",
            "The orbital velocity at  10.22  kpc is  3.5531678501224344 km / s\n",
            "The orbital velocity at  11.35  kpc is  3.3716558645298256 km / s\n",
            "The orbital velocity at  12.49  kpc is  3.214104201911268 km / s\n",
            "The orbital velocity at  13.62  kpc is  3.077886621912613 km / s\n",
            "The orbital velocity at  14.76  kpc is  2.956636901678396 km / s\n",
            "The orbital velocity at  15.89  kpc is  2.8495692993877366 km / s\n",
            "The orbital velocity at  17.03  kpc is  2.7525413240352865 km / s\n",
            "The orbital velocity at  18.16  kpc is  2.6655280045445924 km / s\n",
            "The orbital velocity at  19.3  kpc is  2.585607014258112 km / s\n",
            "The orbital velocity at  20.43  kpc is  2.513083903274837 km / s\n",
            "The orbital velocity at  21.45  kpc is  2.4526045154369367 km / s\n",
            "The orbital velocity at  22.47  kpc is  2.396291435442096 km / s\n",
            "The orbital velocity at  23.5  kpc is  2.3431885722563384 km / s\n",
            "The orbital velocity at  24.52  kpc is  2.2939341077958164 km / s\n",
            "The orbital velocity at  25.54  kpc is  2.2476605613970118 km / s\n",
            "The orbital velocity at  26.56  kpc is  2.2040788969377942 km / s\n",
            "The orbital velocity at  27.58  kpc is  2.16293785132581 km / s\n",
            "The orbital velocity at  28.6  kpc is  2.1240178158048106 km / s\n",
            "The orbital velocity at  29.62  kpc is  2.0871258866233693 km / s\n",
            "The orbital velocity at  30.65  kpc is  2.0517570403747105 km / s\n",
            "The orbital velocity at  31.67  kpc is  2.018446023057773 km / s\n",
            "The orbital velocity at  32.69  kpc is  1.986706494439242 km / s\n",
            "The orbital velocity at  33.71  kpc is  1.9564186559412566 km / s\n",
            "The orbital velocity at  34.73  kpc is  1.9274751166742614 km / s\n"
          ]
        }
      ]
    },
    {
      "cell_type": "code",
      "source": [
        "dis = tab[\"col2\"]\n",
        "vel = tab[\"col3\"]\n",
        "plt.plot(dis,vel, color=\"black\", label=\"Data\")\n",
        "plt.plot(dis, vel_bh.value, color=\"red\", label=\"Black Hole\")\n",
        "plt.xlabel(\"Distance [kpc]\")\n",
        "plt.ylabel(\"Velcoity [km/s]\")\n",
        "plt.ylim(0, 300)\n",
        "plt.legend()"
      ],
      "metadata": {
        "colab": {
          "base_uri": "https://localhost:8080/",
          "height": 473
        },
        "id": "xeVhxGbQ_tsA",
        "outputId": "fbe41957-56a7-4e68-cde3-7eeeb3c42a91"
      },
      "execution_count": null,
      "outputs": [
        {
          "output_type": "execute_result",
          "data": {
            "text/plain": [
              "<matplotlib.legend.Legend at 0x7ab4bc517ca0>"
            ]
          },
          "metadata": {},
          "execution_count": 34
        },
        {
          "output_type": "display_data",
          "data": {
            "text/plain": [
              "<Figure size 640x480 with 1 Axes>"
            ],
            "image/png": "[encoded data removed]"
          },
          "metadata": {}
        }
      ]
    },
    {
      "cell_type": "code",
      "source": [],
      "metadata": {
        "id": "OyW8wd0qBvHO"
      },
      "execution_count": null,
      "outputs": []
    }
  ]
}